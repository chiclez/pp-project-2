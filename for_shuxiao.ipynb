{
 "cells": [
  {
   "cell_type": "markdown",
   "metadata": {},
   "source": [
    "# Project 2 report (for Shuxiao)"
   ]
  },
  {
   "cell_type": "markdown",
   "metadata": {},
   "source": [
    "*Question: Are there any patterns between the number of bikes observed in roadpoints and their proximity to popular spots?*\n",
    "Find t-test\n",
    "\n",
    "#Shuxiao, to use the script in the Jupyter notebook follow the below code:#"
   ]
  },
  {
   "cell_type": "code",
   "execution_count": 1,
   "metadata": {},
   "outputs": [
    {
     "name": "stdout",
     "output_type": "stream",
     "text": [
      "[36, 68, 36, 3, 1, 13, 0, 309, 101, 254, 1, 102, 147, 343, 39]\n",
      "[149, 447, 85, 68, 42, 21, 1, 13, 17, 0, 1, 575, 613, 139, 0, 10, 56, 126, 1, 0, 133, 55]\n"
     ]
    }
   ],
   "source": [
    "import key_places_bikes as bikes\n",
    "import pandas as pd\n",
    "\n",
    "# this is the whole dataframe\n",
    "hospital = bikes.HospitalBikes()\n",
    "market = bikes.MarketBikes()\n",
    "\n",
    "# select only pedal_cycles and then get a list. This will take about 3 minutes.. Be patient.\n",
    "hospital_list = hospital[\"pedal_cycles\"].tolist()\n",
    "market_list = market[\"pedal_cycles\"].tolist()\n",
    "\n",
    "print(hospital_list)\n",
    "print(market_list)"
   ]
  }
 ],
 "metadata": {
  "kernelspec": {
   "display_name": "Python 3",
   "language": "python",
   "name": "python3"
  },
  "language_info": {
   "codemirror_mode": {
    "name": "ipython",
    "version": 3
   },
   "file_extension": ".py",
   "mimetype": "text/x-python",
   "name": "python",
   "nbconvert_exporter": "python",
   "pygments_lexer": "ipython3",
   "version": "3.8.5"
  }
 },
 "nbformat": 4,
 "nbformat_minor": 4
}
