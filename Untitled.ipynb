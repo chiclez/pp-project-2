{
 "cells": [
  {
   "cell_type": "markdown",
   "metadata": {},
   "source": [
    "Goals: \n",
    "1. authorities and sum of different roads they manage - done\n",
    "2. authorities and sum of the vehicles they had in the last 20 years.\n",
    "3. number of bikes used in each authority over 20 years\n",
    "4. graphic showing the changes over the years - usage\n",
    "\n",
    "then Mariel:\n",
    "#how many bikes cross the border between scotland and england, \n",
    "#and top 5 cities in scotland, coorelation between bike usage "
   ]
  },
  {
   "cell_type": "code",
   "execution_count": null,
   "metadata": {},
   "outputs": [],
   "source": [
    "# All Local authorities and how many different roads they manage. when hover over the plot, tells you how many loads\n",
    "import numpy as np\n",
    "import pandas as pd\n",
    "import seaborn as sns\n",
    "import matplotlib.pyplot as plt\n",
    "import string\n",
    "\n",
    "df = pd.read_csv('dft_rawcount_region_id_3.csv')\n",
    "authorities = sorted(df.local_authority_name.unique())\n",
    "road_names = sorted(df.road_name.unique())\n",
    "authority_roads_count = {}\n",
    "max_roads = 0\n",
    "highest_roads_authority = \"\"\n",
    "for authority in authorities:\n",
    "    number_of_roads = len(df.loc[(df['local_authority_name'] == authority)]['road_name'].unique())\n",
    "    authority_roads_count[authority] = number_of_roads\n",
    "    \n",
    "print('We have: ' +str(len(road_names))+' unique roads.') # we have 495 different roads\n",
    "\n",
    "print('We have: '+str(len(authorities))+' unique authorities') # we have 32 different authorities\n",
    "\n",
    "print('This is a list of all the authorities and their corresponding  roads they manage:' +str(sorted(authority_roads_count.items(), key=lambda item: item[1]))+'.') \n",
    "print(len(df.local_authority_name.unique()))\n",
    "\n",
    "plt.rcdefaults()\n",
    "fig, ax = plt.subplots()\n",
    "\n",
    "aut_road_list = sorted(authority_roads_count.items(), key=lambda item: item[1])\n",
    "authorities = list(zip(*aut_road_list))[0]\n",
    "roads = list(zip(*aut_road_list))[1]\n",
    "y_pos = np.arange(len(authorities)) \n",
    "\n",
    "ax.barh(y_pos, roads, align='center')\n",
    "ax.set_yticks(y_pos)\n",
    "ax.set_yticklabels(authorities)\n",
    "ax.invert_yaxis()  # labels read top-to-bottom\n",
    "ax.set_xlabel('Different roads')\n",
    "ax.set_title('All local authorities and different roads they manage.')\n",
    "\n",
    "plt.show()\n",
    "\n"
   ]
  },
  {
   "cell_type": "code",
   "execution_count": null,
   "metadata": {},
   "outputs": [],
   "source": [
    "\n",
    "# Based on Li Zhiwen's code:  find most number, least number, median, average, iqr, print out most 25 percent of local authorities\n",
    "#\n",
    "# Which local authorities manage the most number of different roads (not links)?\n",
    "import pandas as pd \n",
    "import numpy as np\n",
    "\n",
    "\n",
    "# Read form file\n",
    "df = pd.read_csv('dft_rawcount_region_id_3.csv')\n",
    "grouped = df.groupby(by='local_authority_id')\n",
    "\n",
    "#local authorities id and the different roads they managed\n",
    "road_managed = grouped['road_name'].unique()\n",
    "\n",
    "#find which local authority manages the most(least) number of different roads\n",
    "aut_id = sorted(df.local_authority_id.unique())\n",
    "road_num=[]\n",
    "for i in aut_id:\n",
    "    road_num.append(len(road_managed[i]))\n",
    "print('The busiest authority is of id {} and it manages {} different roads.'.format(aut_id[road_num.index(max(road_num))],max(road_num)))\n",
    "print('The least busy authority is of id {} and it manages {} different roads.'.format(aut_id[road_num.index(min(road_num))],min(road_num)))\n"
   ]
  },
  {
   "cell_type": "code",
   "execution_count": null,
   "metadata": {},
   "outputs": [],
   "source": [
    "\n",
    "\n",
    "# Li Zhiwen's code: find most number, least number, median, average, iqr, print out most 25 percent of local authorities\n",
    "# correlation between length of roads and the number of roads that authorities manage - not really fitting anywhere.\n",
    "\n",
    "#Which road is the longest? Which road has the most number of different counting points along it?\n",
    "grouped = df.groupby(by='road_name')\n",
    "\n",
    "#roads and the different counting points they have\n",
    "cp_road = grouped['count_point_id'].unique()\n",
    "\n",
    "#find which road has the most number of different counting points\n",
    "roads = sorted(df.road_name.unique())\n",
    "cp_num=[]\n",
    "for i in roads:\n",
    "    cp_num.append(len(cp_road[i]))\n",
    "print('The longest road is {} and it has {} different counting points.'.format(roads[cp_num.index(max(cp_num))],max(cp_num)))\n"
   ]
  },
  {
   "cell_type": "code",
   "execution_count": null,
   "metadata": {},
   "outputs": [],
   "source": [
    "\n",
    "\n",
    "#the number of bicycles used by different authorities and which authority uses bicycles most often. + do visualisations\n",
    "# do heat map maybe - how many bicycles they manage during certain months.\n",
    "# increased usage of bikes over the years in different authorities, all + every 5/6\n",
    "\n",
    "local_bicycles = df.groupby('local_authority_name')['pedal_cycles'].sum()\n",
    "final_bicycles = {local_authority_id: pedal_cycles for local_authority_id, pedal_cycles in dict(local_bicycles).items()}\n",
    "\n",
    "print(final_bicycles)\n",
    "print('Local authority id.{} uses bicycles most often.'.format(max(final_bicycles, key=final_bicycles.get)))\n"
   ]
  },
  {
   "cell_type": "code",
   "execution_count": null,
   "metadata": {},
   "outputs": [],
   "source": [
    "\n",
    "\n",
    "#the number of bicycles used by different authorities and which authority uses bicycles most often. + do visualisations\n",
    "# do heat map maybe - how many bicycles they manage during certain months.\n",
    "# increased usage of bikes over the years in different authorities, all + every 5/6\n",
    "\n",
    "local_bicycles = df.groupby('local_authority_name')['pedal_cycles'].sum()\n",
    "final_bicycles = {local_authority_id: pedal_cycles for local_authority_id, pedal_cycles in dict(local_bicycles).items()}\n",
    "\n",
    "print(final_bicycles)\n",
    "print('Local authority id.{} uses bicycles most often.'.format(max(final_bicycles, key=final_bicycles.get)))\n",
    "\n"
   ]
  },
  {
   "cell_type": "code",
   "execution_count": null,
   "metadata": {},
   "outputs": [],
   "source": [
    "# get a table of authority and the year and number of bikes \n",
    "import pandas as pd\n",
    "\n",
    "# I want to see these columns\n",
    "use_cols = [\"year\",\"local_authority_name\",\"pedal_cycles\"]\n",
    "\n",
    "# I want to ignore these columns\n",
    "ignore_cols = [\"count_point_id\",\"direction_of_travel\",\"count_date\",\"hour\",\"region_id\",\"region_name\",\"local_authority_id\",\"road_name\",\"road_type\",\"start_junction_road_name\",\"end_junction_road_name\",\"easting\",\"northing\",\"latitude\",\"longitude\",\"link_length_km\",\"link_length_miles\",\"two_wheeled_motor_vehicles\",\"cars_and_taxis\",\"buses_and_coaches\",\"lgvs\",\"hgvs_2_rigid_axle\",\"hgvs_3_rigid_axle\",\"hgvs_3_or_4_articulated_axle\",\"hgvs_4_or_more_rigid_axle\",\"hgvs_5_articulated_axle\",\"hgvs_6_articulated_axle\",\"all_hgvs\",\"all_motor_vehicles\"]\n",
    "bike_usage_years = pd.read_csv(\"dft_rawcount_region_id_3.csv\", usecols=use_cols)\n",
    "print(bike_usage_years)\n",
    "\n",
    "bike_usage_years.groupby(['year']).unique()\n",
    "print(bike_usage_years)\n",
    "# you want to simplify the table - year, authority, sum of the cycles in that year\n",
    "bike_usage = df.pivot_table(index='local_authority_name', columns='year', values='pedal_cycles', aggfunc=pd.Series.sum)\n"
   ]
  },
  {
   "cell_type": "code",
   "execution_count": null,
   "metadata": {},
   "outputs": [],
   "source": []
  },
  {
   "cell_type": "code",
   "execution_count": null,
   "metadata": {},
   "outputs": [],
   "source": []
  },
  {
   "cell_type": "code",
   "execution_count": null,
   "metadata": {},
   "outputs": [],
   "source": []
  }
 ],
 "metadata": {
  "kernelspec": {
   "display_name": "Python 3",
   "language": "python",
   "name": "python3"
  },
  "language_info": {
   "codemirror_mode": {
    "name": "ipython",
    "version": 3
   },
   "file_extension": ".py",
   "mimetype": "text/x-python",
   "name": "python",
   "nbconvert_exporter": "python",
   "pygments_lexer": "ipython3",
   "version": "3.8.5"
  }
 },
 "nbformat": 4,
 "nbformat_minor": 4
}
